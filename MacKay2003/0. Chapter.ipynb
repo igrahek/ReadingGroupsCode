{
 "cells": [
  {
   "cell_type": "markdown",
   "metadata": {},
   "source": [
    "# Table of contents\n",
    "\n",
    "1. [Binomial distribution](#Binomial)  \n",
    "    1.1 [Mean and variance](#Mean)   \n",
    "    1.2 [Plot](#Plotbinom)  \n",
    "2. [Approximating x!](#appx!)  \n",
    "    2.1 [Poisson distribution](#poisson)  \n",
    "    2.2 [Stirling's approximation](#stirling)  \n",
    "    2.3 [Plot of the binary entropy function](#plotH2)  \n"
   ]
  },
  {
   "cell_type": "markdown",
   "metadata": {},
   "source": [
    "<a id=\"Binomial\"> </a>\n",
    "\n",
    "# Binomial distribution\n",
    " \n",
    "$f$ - the probability of heads\n",
    "\n",
    "$r$ - the number of heads\n",
    "\n",
    "$N$ - the number of tosses"
   ]
  },
  {
   "cell_type": "markdown",
   "metadata": {},
   "source": [
    "$P(r|f,N) = \\binom{N}{r}f^r(1-f)^{N-r}$"
   ]
  },
  {
   "cell_type": "markdown",
   "metadata": {},
   "source": [
    "<a id=\"Mean\"> </a>\n",
    "## Mean and variance of the binomial\n",
    "\n",
    "Mean:\n",
    "\n",
    "$\\ E[r] = \\sum_{r=0}^{N} P(r|f,N)r$\n",
    "\n",
    "If we take r to be the sum of N independent variables with outcomes 1 or 0:\n",
    "\n",
    "$\\ E[r] = Nf$ \n",
    "\n",
    "Variance: \n",
    "\n",
    "$ var[r] = \\sum_{r=0}^{N} P(r|f,N)r^2 - (\\ E[r])^2$\n",
    "\n",
    "If we take r to be the sum of N independent variables with outcomes 1 or 0:\n",
    "\n",
    "$ var[r]= Nf(1-f)$"
   ]
  },
  {
   "cell_type": "markdown",
   "metadata": {},
   "source": [
    "<a id=\"Plotbinom\"> </a>\n",
    "## Plot"
   ]
  },
  {
   "cell_type": "code",
   "execution_count": 13,
   "metadata": {},
   "outputs": [
    {
     "data": {
      "image/png": "[encoded data removed]",
      "text/plain": [
       "<Figure size 432x288 with 1 Axes>"
      ]
     },
     "metadata": {
      "needs_background": "light"
     },
     "output_type": "display_data"
    },
    {
     "data": {
      "text/plain": [
       "(array(0.2), array(0.16), array(1.5), array(0.25))"
      ]
     },
     "execution_count": 13,
     "metadata": {},
     "output_type": "execute_result"
    }
   ],
   "source": [
    "## Mean and variance of the binomial\n",
    "from scipy.stats import binom\n",
    "import matplotlib.pyplot as plt\n",
    "import numpy as np\n",
    "\n",
    "N, f = 10, 0.3\n",
    "\n",
    "mean, var, skew, kurt = binom.stats(N, f, moments='mvsk')\n",
    "\n",
    "x = np.arange(binom.ppf(1e-10, N, f),\n",
    "\n",
    "              binom.ppf(0.9999, N, f))\n",
    "\n",
    "plt.vlines(x, 0, binom.pmf(x, N, f), colors='black', lw=5, alpha=0.7)\n",
    "plt.xlabel('r')\n",
    "plt.title('Binomial distribution')\n",
    "plt.show()\n",
    "\n"
   ]
  },
  {
   "cell_type": "markdown",
   "metadata": {},
   "source": [
    "<a id=\"appx!\"> </a>\n",
    "# Approximating x! and $\\binom{N}{r}$\n"
   ]
  },
  {
   "cell_type": "markdown",
   "metadata": {},
   "source": [
    "<a id=\"poisson\"> </a>\n",
    "## Poisson distribution"
   ]
  },
  {
   "cell_type": "code",
   "execution_count": 11,
   "metadata": {},
   "outputs": [
    {
     "data": {
      "image/png": "[encoded data removed]",
      "text/plain": [
       "<Figure size 432x288 with 1 Axes>"
      ]
     },
     "metadata": {
      "needs_background": "light"
     },
     "output_type": "display_data"
    }
   ],
   "source": [
    "## Mean and variance of the poisson\n",
    "from scipy.stats import poisson\n",
    "import matplotlib.pyplot as plt\n",
    "import numpy as np\n",
    "\n",
    "# Lambda\n",
    "l = 15\n",
    "\n",
    "mean, var, skew, kurt = poisson.stats(l, moments='mvsk')\n",
    "\n",
    "x = np.arange(poisson.ppf(1e-10, l),\n",
    "\n",
    "              poisson.ppf(0.9999, l))\n",
    "\n",
    "plt.vlines(x, 0, poisson.pmf(x, l), colors='black', lw=5, alpha=0.7)\n",
    "plt.xlabel('r')\n",
    "plt.title('Poisson distribution')\n",
    "plt.show()"
   ]
  },
  {
   "cell_type": "markdown",
   "metadata": {},
   "source": [
    "<a id=\"stirling\"> </a>\n",
    "## Stirling's approximation\n",
    "\n",
    "\n",
    "        \n",
    "\n"
   ]
  },
  {
   "cell_type": "markdown",
   "metadata": {},
   "source": [
    "### Stirling's approximation for binomial coefficient: $\\frac{N}{(N-r)!r!}$\n",
    "$x!\\approx x^x e^{-x}\\sqrt{2\\pi x}$\n",
    "\n",
    "### Binary entropy function\n",
    "\n",
    "$H_2(x) = x log \\frac{1}{x} + (1-x) log \\frac{1}{(1-x)}$\n",
    "\n",
    "### Combination of the two\n",
    "$\\binom{N}{r}\\approx 2^{NH_2(r/N)}$\n"
   ]
  },
  {
   "cell_type": "markdown",
   "metadata": {},
   "source": [
    "<a id=\"plotH2\"> </a>\n",
    "## Plot of the binary entropy function"
   ]
  },
  {
   "cell_type": "code",
   "execution_count": 2,
   "metadata": {},
   "outputs": [
    {
     "data": {
      "image/png": "[encoded data removed]",
      "text/plain": [
       "<Figure size 432x288 with 1 Axes>"
      ]
     },
     "metadata": {
      "needs_background": "light"
     },
     "output_type": "display_data"
    }
   ],
   "source": [
    "import numpy as np\n",
    "import matplotlib.pyplot as plt\n",
    "\n",
    "# Pick a range of x\n",
    "x = np.arange(0.001,0.9999,0.01)\n",
    "\n",
    "# Binary entropy function\n",
    "def H2(x):\n",
    "    H2= x*np.log2(1/x) + (1-x)*np.log2(1/(1-x))\n",
    "    return H2\n",
    "\n",
    "# Calculate the binary entropy\n",
    "binary_entropy = H2(x)\n",
    "binary_entropy\n",
    "\n",
    "# Plot\n",
    "plt.plot(x,binary_entropy, color='black')\n",
    "plt.ylabel('H2')\n",
    "plt.xlabel('x')\n",
    "plt.title('The binary entropy function')\n",
    "plt.show()\n"
   ]
  },
  {
   "cell_type": "markdown",
   "metadata": {},
   "source": [
    "# RIP code\n"
   ]
  },
  {
   "cell_type": "code",
   "execution_count": null,
   "metadata": {},
   "outputs": [],
   "source": [
    "\n"
   ]
  }
 ],
 "metadata": {
  "kernelspec": {
   "display_name": "Python 3",
   "language": "python",
   "name": "python3"
  },
  "language_info": {
   "codemirror_mode": {
    "name": "ipython",
    "version": 3
   },
   "file_extension": ".py",
   "mimetype": "text/x-python",
   "name": "python",
   "nbconvert_exporter": "python",
   "pygments_lexer": "ipython3",
   "version": "3.5.6"
  }
 },
 "nbformat": 4,
 "nbformat_minor": 4
}

{
 "cells": [
  {
   "cell_type": "markdown",
   "metadata": {},
   "source": [
    "# Table of contents\n",
    "\n",
    "1. [Error correcting codes](#error)  \n",
    "    1.1 [Figure](#plotchannel)  \n",
    "    1.2 [Repetition codes](#repetition)  \n",
    "    1.3 [Hamming (4,7) code](#hamming)  \n",
    "    1.4 [Decoding the Hamming code](#dechamming)  \n",
    "2. [Channel capacity](#capacity) "
   ]
  },
  {
   "cell_type": "code",
   "execution_count": 2,
   "metadata": {},
   "outputs": [],
   "source": [
    "import numpy as np\n",
    "import matplotlib.pyplot as plt"
   ]
  },
  {
   "cell_type": "markdown",
   "metadata": {},
   "source": [
    "<a id=\"error\"> </a>\n",
    "# Error correcting codes"
   ]
  },
  {
   "cell_type": "markdown",
   "metadata": {},
   "source": [
    "<a id=\"plotchannel\"> </a>\n",
    "## Figure"
   ]
  },
  {
   "cell_type": "markdown",
   "metadata": {},
   "source": [
    "![](Channel.png)\n"
   ]
  },
  {
   "cell_type": "markdown",
   "metadata": {},
   "source": [
    "<a id=\"repetition\"> </a>\n",
    "## Repetition codes"
   ]
  },
  {
   "cell_type": "code",
   "execution_count": 66,
   "metadata": {},
   "outputs": [
    {
     "data": {
      "image/png": "[encoded data removed]",
      "text/plain": [
       "<Figure size 432x288 with 2 Axes>"
      ]
     },
     "metadata": {
      "needs_background": "light"
     },
     "output_type": "display_data"
    },
    {
     "name": "stdout",
     "output_type": "stream",
     "text": [
      "Error probability of R3 0.033167438349248214\n"
     ]
    },
    {
     "data": {
      "text/plain": [
       "0.5310044064107187"
      ]
     },
     "execution_count": 66,
     "metadata": {},
     "output_type": "execute_result"
    }
   ],
   "source": [
    "N = np.arange(2,30) # the number of repetitions\n",
    "K = (N+1)/2\n",
    "f = 0.1\n",
    "\n",
    "# Binary entropy function\n",
    "def H2(x):\n",
    "    H2= x*np.log2(1/x) + (1-x)*np.log2(1/(1-x))\n",
    "    return H2\n",
    "\n",
    "# # The less precise Sterling approximation\n",
    "#N_chose_K = 2**(N*H2(K/N))\n",
    "\n",
    "# The more precise Sterling approximation\n",
    "N_chose_K = 2**(N)*(1/np.sqrt((2*np.pi*N)/4)) \n",
    "\n",
    "# Calculate the probability of an error\n",
    "pb = N_chose_K * f**((N+1)/2) * (1-f)**((N-1)/2)\n",
    "\n",
    "# Plot\n",
    "plt.subplot(121)\n",
    "plt.plot(1/N,pb, color='black')\n",
    "plt.title(\"raw\")\n",
    "plt.ylabel('$p_b$')\n",
    "plt.xlabel('Rate')\n",
    "plt.xlim(0,0.4,0.1)\n",
    "\n",
    "plt.subplot(122)\n",
    "plt.plot(1/N,np.log(pb), color='black')\n",
    "plt.title(\"log\")\n",
    "plt.ylabel('log $p_b$')\n",
    "plt.xlabel('Rate')\n",
    "plt.xlim(0,0.4,0.1)\n",
    "\n",
    "plt.subplots_adjust(left=None, bottom=None, right=None, top=None, wspace=0.5, hspace=None)\n",
    "plt.show()\n",
    "\n",
    "print('Error probability of R3', pb[1])"
   ]
  },
  {
   "cell_type": "markdown",
   "metadata": {},
   "source": [
    "<a id=\"hamming\"> </a>\n",
    "## Hamming (7,4) code"
   ]
  },
  {
   "cell_type": "markdown",
   "metadata": {},
   "source": [
    "Create the generative matrix, the signal, and the transmitted signal"
   ]
  },
  {
   "cell_type": "code",
   "execution_count": 49,
   "metadata": {},
   "outputs": [
    {
     "data": {
      "image/png": "[encoded data removed]",
      "text/plain": [
       "<Figure size 432x288 with 3 Axes>"
      ]
     },
     "metadata": {
      "needs_background": "light"
     },
     "output_type": "display_data"
    },
    {
     "data": {
      "image/png": "[encoded data removed]",
      "text/plain": [
       "<Figure size 432x288 with 2 Axes>"
      ]
     },
     "metadata": {
      "needs_background": "light"
     },
     "output_type": "display_data"
    },
    {
     "name": "stdout",
     "output_type": "stream",
     "text": [
      "Transmitted messages (each in one row):\n",
      "[[0. 0. 0. 0. 0. 0. 0.]\n",
      " [0. 0. 0. 1. 0. 1. 1.]\n",
      " [0. 0. 1. 0. 1. 1. 1.]\n",
      " [0. 0. 1. 1. 1. 0. 0.]\n",
      " [0. 1. 0. 0. 1. 1. 0.]\n",
      " [0. 1. 0. 1. 1. 0. 1.]\n",
      " [0. 1. 1. 0. 0. 0. 1.]\n",
      " [0. 1. 1. 1. 0. 1. 0.]]\n"
     ]
    }
   ],
   "source": [
    "# Create the generator matrix\n",
    "I = np.array(np.identity(4))\n",
    "P = np.array([[1, 0, 1], \n",
    "              [1, 1, 0], \n",
    "              [1, 1, 1],\n",
    "              [0, 1, 1]])\n",
    "G=np.concatenate((I,P),axis=1)\n",
    "\n",
    "# Signal\n",
    "s = np.array([[0, 0, 0, 0],\n",
    "              [0, 0, 0, 1],\n",
    "              [0, 0, 1, 0],\n",
    "              [0, 0, 1, 1],\n",
    "              \n",
    "              [0, 1, 0, 0],\n",
    "              [0, 1, 0, 1],\n",
    "              [0, 1, 1, 0],\n",
    "              [0, 1, 1, 1]])\n",
    "\n",
    "s = s.T\n",
    "\n",
    "# Calculate the transmitted signal\n",
    "t = G.T@s %2 # modulo 2 matrix multiplication\n",
    "\n",
    "#print(G.T.shape)\n",
    "\n",
    "#Plot the main matrices\n",
    "plt.subplot(131)\n",
    "plt.imshow(I), plt.axis('off')\n",
    "plt.title('I '+str(I.shape))\n",
    "\n",
    "plt.subplot(132)\n",
    "plt.imshow(P), plt.axis('off')\n",
    "plt.title('$P$ ' + str(P.shape))\n",
    "\n",
    "plt.subplot(133)\n",
    "plt.imshow(G), plt.axis('off')\n",
    "plt.title('G ' + str(G.shape))\n",
    "\n",
    "plt.subplots_adjust(left=None, bottom=None, right=None, top=None, wspace=0.3, hspace=None)\n",
    "plt.show()\n",
    "\n",
    "# Plot the signal and the transmitted signal\n",
    "plt.subplot(121)\n",
    "plt.imshow(s), plt.axis('off')\n",
    "plt.title('s ' + str(s.shape))\n",
    "\n",
    "plt.subplot(122)\n",
    "plt.imshow(t.T), plt.axis('off')\n",
    "plt.title('t ' + str(t.shape))\n",
    "\n",
    "plt.show()\n",
    "\n",
    "print('Transmitted messages (each in one row):')\n",
    "print(t.T)"
   ]
  },
  {
   "cell_type": "markdown",
   "metadata": {},
   "source": [
    "<a id=\"dechamming\"> </a>\n",
    "## Decoding the (7,4) Hamming code"
   ]
  },
  {
   "cell_type": "code",
   "execution_count": 53,
   "metadata": {},
   "outputs": [
    {
     "data": {
      "image/png": "[encoded data removed]",
      "text/plain": [
       "<Figure size 432x288 with 2 Axes>"
      ]
     },
     "metadata": {
      "needs_background": "light"
     },
     "output_type": "display_data"
    }
   ],
   "source": [
    "# Take the syndrome\n",
    "z = t[:,4:7]\n",
    "\n",
    "# Parity check matrix H\n",
    "H=np.concatenate((P.T,np.array(np.identity(3))),axis=1)\n",
    "\n",
    "#Plot the H matrix and solve Excercise 1.4\n",
    "plt.subplot(121)\n",
    "plt.imshow(H), plt.axis('off')\n",
    "plt.title('H ' + str(H.shape))\n",
    "\n",
    "plt.subplot(122)\n",
    "plt.imshow(H@G.T %2), plt.axis('off')\n",
    "plt.title('$H * G^T$ ' + str((H@G.T %2).shape))\n",
    "\n",
    "plt.show()\n",
    "# Show s and t\n",
    "# print('s vector (signal) = ',s)\n",
    "# print('')\n",
    "# print('t vector (transmitted) = ',t.T)\n",
    "# print('')\n",
    "# print('z vector (syndrome) = ',z)"
   ]
  },
  {
   "cell_type": "code",
   "execution_count": 33,
   "metadata": {},
   "outputs": [
    {
     "data": {
      "image/png": "[encoded data removed]",
      "text/plain": [
       "<Figure size 432x288 with 3 Axes>"
      ]
     },
     "metadata": {
      "needs_background": "light"
     },
     "output_type": "display_data"
    }
   ],
   "source": [
    "# Noise matrix\n",
    "n = np.random.randint(2, size=t.shape)\n",
    "\n",
    "# Received signal matrix\n",
    "r = np.multiply(n,t) \n",
    "\n",
    "#Plot \n",
    "plt.subplot(131)\n",
    "plt.imshow(t), plt.axis('off')\n",
    "plt.title('t ' + str(t.shape))\n",
    "\n",
    "plt.subplot(132)\n",
    "plt.imshow(n), plt.axis('off')\n",
    "plt.title('n ' + str(n.shape))\n",
    "\n",
    "plt.subplot(133)\n",
    "plt.imshow(r), plt.axis('off')\n",
    "plt.title('r ' + str(r.shape))\n",
    "\n",
    "plt.show()\n"
   ]
  },
  {
   "cell_type": "markdown",
   "metadata": {},
   "source": [
    "<a id=\"capacity\"> </a>\n",
    "# Channel capacity"
   ]
  },
  {
   "cell_type": "markdown",
   "metadata": {},
   "source": [
    "$C(f) = 1-H_2$"
   ]
  },
  {
   "cell_type": "code",
   "execution_count": 57,
   "metadata": {},
   "outputs": [
    {
     "name": "stdout",
     "output_type": "stream",
     "text": [
      "Capacity of a channel with f=0.1 is: 0.5310044064107187\n"
     ]
    }
   ],
   "source": [
    "f = 0.1\n",
    "\n",
    "# Binary entropy function\n",
    "def H2(x):\n",
    "    H2= x*np.log2(1/x) + (1-x)*np.log2(1/(1-x))\n",
    "    return H2\n",
    "\n",
    "#Channel capacity\n",
    "C = 1-H2(f)\n",
    "\n",
    "print('Capacity of a channel with f=0.1 is:', C)\n",
    "\n",
    "\n"
   ]
  },
  {
   "cell_type": "markdown",
   "metadata": {},
   "source": [
    "# RIP code\n"
   ]
  },
  {
   "cell_type": "code",
   "execution_count": null,
   "metadata": {},
   "outputs": [],
   "source": [
    "\n"
   ]
  }
 ],
 "metadata": {
  "kernelspec": {
   "display_name": "Python 3",
   "language": "python",
   "name": "python3"
  },
  "language_info": {
   "codemirror_mode": {
    "name": "ipython",
    "version": 3
   },
   "file_extension": ".py",
   "mimetype": "text/x-python",
   "name": "python",
   "nbconvert_exporter": "python",
   "pygments_lexer": "ipython3",
   "version": "3.5.6"
  }
 },
 "nbformat": 4,
 "nbformat_minor": 4
}

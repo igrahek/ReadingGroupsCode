{
 "cells": [
  {
   "cell_type": "markdown",
   "metadata": {},
   "source": [
    "# Table of contents\n",
    "\n",
    "1. [Probability rules](#rules)  \n",
    "    1.1 [Ensamble](#rules)   \n",
    "    1.2 [Joint probability](#joint)  \n",
    "    1.3 [Marginal probability](#marginal)  \n",
    "    1.4 [Conditional probability](#conditional)  \n",
    "    1.5 [Product rule](#product)  \n",
    "    1.6 [Sum rule](#sum)  \n",
    "    1.7 [Bayes' rule](#bayes)  \n",
    "2. [Entropy](#entropy)  \n",
    "    2.1 [Shanon information content](#shanonic)    \n",
    "    2.2 [Entropy of an ensamble](#ensambleentropy)  \n",
    "    2.3 [Joint entropy](#jointentropy)    \n",
    "    \n"
   ]
  },
  {
   "cell_type": "code",
   "execution_count": 2,
   "metadata": {},
   "outputs": [],
   "source": [
    "import numpy as np\n",
    "import matplotlib.pyplot as plt\n",
    "\n"
   ]
  },
  {
   "cell_type": "markdown",
   "metadata": {},
   "source": [
    "<a id=\"Rules\"> </a>\n",
    "# Probability rules"
   ]
  },
  {
   "cell_type": "markdown",
   "metadata": {},
   "source": [
    "<a id=\"ensamble\"> </a>\n",
    "## Ensamble"
   ]
  },
  {
   "cell_type": "markdown",
   "metadata": {},
   "source": [
    "X - ensamble  \n",
    "x - outcome  \n",
    "A - possible values  \n",
    "P - probabilities of the possible values  \n",
    "\n",
    "\n",
    "\\begin{equation} \n",
    "\\begin{split}\n",
    "X = (x, A_{x},P_{x})\n",
    "\\end{split}\n",
    "\\end{equation}\n",
    "\n",
    "\n",
    "\n"
   ]
  },
  {
   "cell_type": "markdown",
   "metadata": {},
   "source": [
    "<a id=\"joint\"> </a>\n",
    "## Joint probability"
   ]
  },
  {
   "cell_type": "markdown",
   "metadata": {},
   "source": [
    "\n",
    "\\begin{equation} \\label{eq1}\n",
    "\\begin{split}\n",
    "P(x,y) = P(y,x)\n",
    "\\end{split}\n",
    "\\end{equation}"
   ]
  },
  {
   "cell_type": "markdown",
   "metadata": {},
   "source": [
    "<a id=\"marginal\"> </a>\n",
    "## Marginal probability"
   ]
  },
  {
   "cell_type": "markdown",
   "metadata": {},
   "source": [
    "\n",
    "\\begin{equation} \\\n",
    "\\begin{split}\n",
    "P(x) = \\sum_{y}P(x,y)\n",
    "\\end{split}\n",
    "\\end{equation}\n"
   ]
  },
  {
   "cell_type": "markdown",
   "metadata": {},
   "source": [
    "<a id=\"conditional\"> </a>\n",
    "## Conditional probability"
   ]
  },
  {
   "cell_type": "markdown",
   "metadata": {},
   "source": [
    "\\begin{equation} \\\n",
    "\\begin{split}\n",
    "P(x=a_{i}|y=b_{j}) = \\frac {P(x=a_{i},y=b_{j})} {P(y = b_{j})}\n",
    "\\end{split}\n",
    "\\end{equation}\n"
   ]
  },
  {
   "cell_type": "markdown",
   "metadata": {},
   "source": [
    "<a id=\"product\"> </a>\n",
    "## Product (chain) rule"
   ]
  },
  {
   "cell_type": "markdown",
   "metadata": {},
   "source": [
    "Joint probability = conditional * marginal  \n",
    "\n",
    "Obtained from the conditional probability (just put P(y) on the other side)\n",
    "  \n",
    "H - assumptions based on which the probabilities are based  \n",
    "\n",
    "\\begin{equation} \\label{eq2.6}\n",
    "\\begin{split}\n",
    "P(x,y|\\mathcal{\\mathcal{H}}) & = P(x|y,\\mathcal{H})P(y|\\mathcal{H}) \\\\\n",
    " & = P(y|x,\\mathcal{H})P(x|\\mathcal{H})\n",
    "\\end{split}\n",
    "\\end{equation}\n",
    "\n",
    "\n"
   ]
  },
  {
   "cell_type": "markdown",
   "metadata": {},
   "source": [
    "<a id=\"sum\"> </a>\n",
    "## Sum rule"
   ]
  },
  {
   "cell_type": "markdown",
   "metadata": {},
   "source": [
    "Re-write of the marginal probability when we include the chain rule \n",
    "\n",
    "\n",
    "\\begin{equation} \\\n",
    "\\begin{split}\n",
    "P(x|\\mathcal{\\mathcal{H}}) & = \\sum_{y}P(x,y|\\mathcal{\\mathcal{H}}) \\\\\n",
    " & = \\sum_{y}P(x|y,\\mathcal{\\mathcal{H}})P(y|\\mathcal{H})\n",
    "\\end{split}\n",
    "\\end{equation}\n"
   ]
  },
  {
   "cell_type": "markdown",
   "metadata": {},
   "source": [
    "<a id=\"bayes\"> </a>\n",
    "## Bayes' rule"
   ]
  },
  {
   "cell_type": "markdown",
   "metadata": {},
   "source": [
    "Chain rule and joint probability    \n",
    "\n",
    "\n",
    "\\begin{equation} \\\n",
    "\\begin{split}\n",
    "P(x,y|\\mathcal{\\mathcal{H}}) & = P(y,x|\\mathcal{\\mathcal{H}}) \\\\[10pt]    \n",
    "P(x,y|\\mathcal{\\mathcal{H}}) & = P(x|y,\\mathcal{H})P(y|\\mathcal{H}) \\\\[10pt] \n",
    "P(y,x|\\mathcal{\\mathcal{H}}) & = P(y|x,\\mathcal{H})P(x|\\mathcal{H}) \\\\[10pt]  \n",
    "P(x|y,\\mathcal{H})P(y|\\mathcal{H}) & = P(y|x,\\mathcal{H})P(x|\\mathcal{H}) \\\\[10pt]\n",
    "P(x|y,\\mathcal{H}) & = \\frac{P(y|x,\\mathcal{H})P(x|\\mathcal{H})}{P(y|\\mathcal{H})}\n",
    "\\end{split}\n",
    "\\end{equation}\n",
    "\n",
    "More generally:\n",
    "\n",
    "\n",
    "\\begin{equation} \\\n",
    "\\begin{split}\n",
    "P(\\theta|D,\\mathcal{H}) & = \\frac{P(D|\\theta,\\mathcal{H})P(\\theta|\\mathcal{H})}{P(D|\\mathcal{H})}\n",
    "\\end{split}\n",
    "\\end{equation}\n",
    "\n",
    "Named as:\n",
    "\n",
    "\\begin{equation} \\\n",
    "\\begin{split}\n",
    "posterior & = \\frac{likelihood \\times prior}{evidence}\n",
    "\\end{split}\n",
    "\\end{equation}\n",
    "\n"
   ]
  },
  {
   "cell_type": "markdown",
   "metadata": {},
   "source": [
    "<a id=\"ind\"> </a>\n",
    "## Independence"
   ]
  },
  {
   "cell_type": "markdown",
   "metadata": {},
   "source": [
    "Two random variables are independent iff: \n",
    "\n",
    "\n",
    "\\begin{equation} \\\n",
    "\\begin{split}\n",
    "P(x,y) & = P(x)P(y) \\\\\n",
    "\\end{split}\n",
    "\\end{equation}\n"
   ]
  },
  {
   "cell_type": "markdown",
   "metadata": {},
   "source": [
    "<a id=\"entropy\"> </a>\n",
    "# Entropy"
   ]
  },
  {
   "cell_type": "markdown",
   "metadata": {},
   "source": [
    "<a id=\"shanonic\"> </a>\n",
    "## Shanon information content"
   ]
  },
  {
   "cell_type": "markdown",
   "metadata": {},
   "source": [
    "\\begin{equation} \\\n",
    "\\begin{split}\n",
    "h(x) & = log_{2} \\frac{1}{P(x)}\n",
    "\\end{split}\n",
    "\\end{equation}"
   ]
  },
  {
   "cell_type": "markdown",
   "metadata": {},
   "source": [
    "<a id=\"ensambleentropy\"> </a>\n",
    "## Entropy of an ensamble"
   ]
  },
  {
   "cell_type": "markdown",
   "metadata": {},
   "source": [
    "\\begin{equation} \\\n",
    "\\begin{split}\n",
    "H(x) & = \\sum_{x} P(x)log\\frac{1}{P(x)}\n",
    "\\end{split}\n",
    "\\end{equation}"
   ]
  },
  {
   "cell_type": "markdown",
   "metadata": {},
   "source": [
    "<a id=\"jointentropy\"> </a>\n",
    "## Joint entropy"
   ]
  },
  {
   "cell_type": "markdown",
   "metadata": {},
   "source": [
    "\\begin{equation} \\\n",
    "\\begin{split}\n",
    "H(x,y) & = \\sum_{xy} P(x,y)log\\frac{1}{P(x,y)}\n",
    "\\end{split}\n",
    "\\end{equation}"
   ]
  },
  {
   "cell_type": "markdown",
   "metadata": {},
   "source": [
    "<a id=\"relativeentropy\"> </a>\n",
    "## Relative entropy / KL divergence"
   ]
  },
  {
   "cell_type": "markdown",
   "metadata": {},
   "source": [
    "\\begin{equation} \\\n",
    "\\begin{split}\n",
    "D_{KL}(P||Q) & = \\sum_{x} P(x)log\\frac{P(x)}{Q(x)}\n",
    "\\end{split}\n",
    "\\end{equation}  \n",
    "\n",
    "$D_{KL}$ satistifies Gibbs inequality: \n",
    "\n",
    "\\begin{equation} \\\n",
    "\\begin{split}\n",
    "D_{KL}(P||Q) & \\geq 0\n",
    "\\end{split}\n",
    "\\end{equation}    \n",
    "\n",
    "$D_{KL}$ is not symmetric, so it's not strictly a distance:  \n",
    "\n",
    "\\begin{equation} \\\n",
    "\\begin{split}\n",
    "D_{KL}(P||Q) & \\neq D_{KL}(Q||P)\n",
    "\\end{split}\n",
    "\\end{equation}    "
   ]
  },
  {
   "cell_type": "code",
   "execution_count": null,
   "metadata": {},
   "outputs": [],
   "source": [
    "\n"
   ]
  }
 ],
 "metadata": {
  "kernelspec": {
   "display_name": "Python 3",
   "language": "python",
   "name": "python3"
  },
  "language_info": {
   "codemirror_mode": {
    "name": "ipython",
    "version": 3
   },
   "file_extension": ".py",
   "mimetype": "text/x-python",
   "name": "python",
   "nbconvert_exporter": "python",
   "pygments_lexer": "ipython3",
   "version": "3.8.5"
  }
 },
 "nbformat": 4,
 "nbformat_minor": 4
}
